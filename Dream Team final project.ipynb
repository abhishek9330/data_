{
 "cells": [
  {
   "cell_type": "markdown",
   "id": "02d76c73-b400-4188-84a8-414cd50a0c6d",
   "metadata": {},
   "source": [
    "# AE 102 PROJECT - DREAM TEAM"
   ]
  },
  {
   "cell_type": "code",
   "execution_count": 93,
   "id": "42506e90-6b1a-4965-91b5-a59a07045ba3",
   "metadata": {},
   "outputs": [],
   "source": [
    "import pandas as pd\n",
    "from numpy import *\n",
    "from matplotlib.pyplot import *\n",
    "%matplotlib inline\n",
    "from numpy.random import *\n",
    "import scipy.stats as stats\n",
    "from ipywidgets import *"
   ]
  },
  {
   "cell_type": "markdown",
   "id": "691aafbb",
   "metadata": {},
   "source": [
    "By importing panda and using read csv function, we included the csv file as a panda's data frame. Then we printed that data frame, then for every individual panda series, we stored them as numpy array with different name. We made graphs and then seaborn curve joint plot is plotted. Now we plotted number of runs scored by batsman vs number of balls faced by him which naturally approximates to a stright line."
   ]
  },
  {
   "cell_type": "code",
   "execution_count": 2,
   "id": "452b9b7e-abbf-49b2-8970-86b7afba4cf6",
   "metadata": {},
   "outputs": [],
   "source": [
    "batsmen_data = pd.read_csv(\"Dream_Team_csv_batsmen.csv\", index_col = \"Batsman\").dropna()\n",
    "bowler_data = pd.read_csv(\"Dream_Team_csv_bowlers.csv\", index_col = \"Bowler\").dropna()"
   ]
  },
  {
   "cell_type": "code",
   "execution_count": 3,
   "id": "05baefcd-e082-4df5-8a2b-104d553b7689",
   "metadata": {},
   "outputs": [
    {
     "name": "stdout",
     "output_type": "stream",
     "text": [
      "               Total runs scored  Total balls faced  Strike rate\n",
      "Batsman                                                         \n",
      "V Kohli                   6479.0             5124.0     1.264442\n",
      "S Dhawan                  6091.0             4945.0     1.231749\n",
      "RG Sharma                 5768.0             4529.0     1.273570\n",
      "DA Warner                 5715.0             4187.0     1.364939\n",
      "SK Raina                  5536.0             4177.0     1.325353\n",
      "...                          ...                ...          ...\n",
      "SO Hetmyer                 777.0              530.0     1.466038\n",
      "ST Jayasuriya              768.0              573.0     1.340314\n",
      "MM Ali                     753.0              540.0     1.394444\n",
      "GC Smith                   739.0              691.0     1.069465\n",
      "V Shankar                  731.0              616.0     1.186688\n",
      "\n",
      "[100 rows x 3 columns]\n"
     ]
    }
   ],
   "source": [
    "print (batsmen_data)"
   ]
  },
  {
   "cell_type": "code",
   "execution_count": 4,
   "id": "f2f68dbb-7316-48c6-b7a1-9afcad64e6d7",
   "metadata": {},
   "outputs": [
    {
     "name": "stdout",
     "output_type": "stream",
     "text": [
      "                   Runs conceded  Extras  Total balls bowled  \\\n",
      "Bowler                                                         \n",
      "SL Malinga                  3194     292                2974   \n",
      "DJ Bravo                    4140     255                3266   \n",
      "SP Narine                   3654     150                3419   \n",
      "R Ashwin                    4178     198                3852   \n",
      "A Mishra                    3897     125                3317   \n",
      "...                          ...     ...                 ...   \n",
      "Arshdeep Singh               854      73                 678   \n",
      "Washington Sundar            995      26                 868   \n",
      "R Tewatia                   1063      28                 846   \n",
      "MS Gony                     1250      67                 925   \n",
      "KK Cooper                    725      64                 600   \n",
      "\n",
      "                   Total runs conceded  Economy  Wickets taken  Value assigned  \n",
      "Bowler                                                                          \n",
      "SL Malinga                        3486    1.172            188      160.409556  \n",
      "DJ Bravo                          4395    1.346            205      152.303120  \n",
      "SP Narine                         3804    1.113            169      151.841869  \n",
      "R Ashwin                          4376    1.136            169      148.767606  \n",
      "A Mishra                          4022    1.213            175      144.270404  \n",
      "...                                ...      ...            ...             ...  \n",
      "Arshdeep Singh                     927    1.367             39       28.529627  \n",
      "Washington Sundar                 1021    1.176             33       28.061224  \n",
      "R Tewatia                         1091    1.290             36       27.906977  \n",
      "MS Gony                           1317    1.424             39       27.387640  \n",
      "KK Cooper                          789    1.315             36       27.376426  \n",
      "\n",
      "[100 rows x 7 columns]\n"
     ]
    }
   ],
   "source": [
    "print (bowler_data)"
   ]
  },
  {
   "cell_type": "markdown",
   "id": "0a954f30-f1a9-41bb-ad84-947772d8aa46",
   "metadata": {},
   "source": [
    "## Description of the data"
   ]
  },
  {
   "cell_type": "code",
   "execution_count": 5,
   "id": "8baf78ad-c1bf-4e1e-b99f-3d5a864ddaa7",
   "metadata": {},
   "outputs": [],
   "source": [
    "batsmen_runs = pd.Series(batsmen_data[\"Total runs scored\"]).to_numpy()\n",
    "batsmen_balls = pd.Series(batsmen_data[\"Total balls faced\"]).to_numpy()\n",
    "bowler_economy = pd.Series(bowler_data[\"Economy\"]).to_numpy()\n",
    "bowler_wickets = pd.Series(bowler_data[\"Wickets taken\"]).to_numpy()\n",
    "batsmen_sr = pd.Series(batsmen_data[\"Strike rate\"]).to_numpy()"
   ]
  },
  {
   "cell_type": "code",
   "execution_count": 6,
   "id": "8d3e04fb-7df8-4ce4-8bad-b70caf49a2dc",
   "metadata": {},
   "outputs": [
    {
     "data": {
      "image/png": "[encoded data removed]",
      "text/plain": [
       "<Figure size 432x288 with 1 Axes>"
      ]
     },
     "metadata": {
      "needs_background": "light"
     },
     "output_type": "display_data"
    }
   ],
   "source": [
    "stem(batsmen_balls);"
   ]
  },
  {
   "cell_type": "code",
   "execution_count": 7,
   "id": "91f466bc-de37-411c-8e52-9db916a039ed",
   "metadata": {},
   "outputs": [
    {
     "data": {
      "image/png": "[encoded data removed]",
      "text/plain": [
       "<Figure size 432x288 with 1 Axes>"
      ]
     },
     "metadata": {
      "needs_background": "light"
     },
     "output_type": "display_data"
    }
   ],
   "source": [
    "stem(batsmen_runs);"
   ]
  },
  {
   "cell_type": "code",
   "execution_count": 8,
   "id": "27e01caa-0da5-4957-a4a7-da6a7cc66aed",
   "metadata": {},
   "outputs": [
    {
     "data": {
      "image/png": "[encoded data removed]",
      "text/plain": [
       "<Figure size 432x288 with 1 Axes>"
      ]
     },
     "metadata": {
      "needs_background": "light"
     },
     "output_type": "display_data"
    }
   ],
   "source": [
    "hist(bowler_economy, bins=20, rwidth=0.8);\n"
   ]
  },
  {
   "cell_type": "code",
   "execution_count": 9,
   "id": "ae1335bc-2edb-427d-a74e-ecc5ee8776dc",
   "metadata": {},
   "outputs": [
    {
     "data": {
      "image/png": "[encoded data removed]",
      "text/plain": [
       "<Figure size 432x288 with 1 Axes>"
      ]
     },
     "metadata": {
      "needs_background": "light"
     },
     "output_type": "display_data"
    }
   ],
   "source": [
    "hist (bowler_wickets, bins=40, rwidth = 0.8);"
   ]
  },
  {
   "cell_type": "code",
   "execution_count": 10,
   "id": "c79971e4-8092-429f-a0d6-21072cfe2a5e",
   "metadata": {},
   "outputs": [
    {
     "data": {
      "image/png": "[encoded data removed]",
      "text/plain": [
       "<Figure size 432x288 with 1 Axes>"
      ]
     },
     "metadata": {
      "needs_background": "light"
     },
     "output_type": "display_data"
    }
   ],
   "source": [
    "hist(batsmen_sr, bins=20, rwidth = 0.8);"
   ]
  },
  {
   "cell_type": "code",
   "execution_count": 11,
   "id": "cc3c1b6e-b341-4782-8cfd-ea088acb63fa",
   "metadata": {},
   "outputs": [],
   "source": [
    "import seaborn as sb"
   ]
  },
  {
   "cell_type": "code",
   "execution_count": 12,
   "id": "b88bd002-e499-42b7-81a4-dd5a0e5a1df4",
   "metadata": {},
   "outputs": [
    {
     "data": {
      "image/png": "[encoded data removed]",
      "text/plain": [
       "<Figure size 432x432 with 3 Axes>"
      ]
     },
     "metadata": {
      "needs_background": "light"
     },
     "output_type": "display_data"
    }
   ],
   "source": [
    "sb.jointplot(x=batsmen_runs, y=batsmen_sr,kind=\"hist\", bins = 20, marginal_kws = dict(bins=20));"
   ]
  },
  {
   "cell_type": "code",
   "execution_count": 62,
   "id": "239d2afb-eaf0-4d43-9767-68882d988330",
   "metadata": {},
   "outputs": [
    {
     "data": {
      "image/png": "[encoded data removed]",
      "text/plain": [
       "<Figure size 432x432 with 3 Axes>"
      ]
     },
     "metadata": {
      "needs_background": "light"
     },
     "output_type": "display_data"
    }
   ],
   "source": [
    "sb.jointplot(x=bowler_economy, y=bowler_wickets,kind=\"hist\", bins = 20, marginal_kws = dict(bins=20));"
   ]
  },
  {
   "cell_type": "code",
   "execution_count": null,
   "id": "57240fdd-cbe6-4ec8-9c57-bdcf5eab63e8",
   "metadata": {},
   "outputs": [],
   "source": []
  },
  {
   "cell_type": "code",
   "execution_count": 14,
   "id": "c1f87bf2-fa84-4174-9ec4-5fa4dabe389c",
   "metadata": {},
   "outputs": [
    {
     "data": {
      "image/png": "[encoded data removed]",
      "text/plain": [
       "<Figure size 432x432 with 3 Axes>"
      ]
     },
     "metadata": {
      "needs_background": "light"
     },
     "output_type": "display_data"
    }
   ],
   "source": [
    "sb. jointplot(x = batsmen_runs, y=batsmen_balls, kind = \"reg\");"
   ]
  },
  {
   "cell_type": "markdown",
   "id": "1c89f6a2-5d16-4833-a478-b5c699cc7953",
   "metadata": {},
   "source": [
    "We can clearly see that for no. of runs scored vs number of balls faced, the line is a good approximation. This is fairly obvious since the more the number of balls a batsman faces, the more the likeliness that he will score more runs. We can also conclude from this that a batsmen whos points lie below the line are having a lower strike rate and vice versa."
   ]
  },
  {
   "cell_type": "markdown",
   "id": "25b28ada-2385-4ecc-b88e-26f146b2eade",
   "metadata": {},
   "source": [
    "## Sampling Distributions"
   ]
  },
  {
   "cell_type": "code",
   "execution_count": 15,
   "id": "dca67d79-863e-40df-989a-21f268a349a2",
   "metadata": {},
   "outputs": [],
   "source": [
    "def gen_means(no_of_samples, sample_size, data_array):\n",
    "    means=[]\n",
    "    for i in range(no_of_samples):\n",
    "        sample = choice(data_array,sample_size)\n",
    "        means.append(mean(sample))\n",
    "    return means"
   ]
  },
  {
   "cell_type": "markdown",
   "id": "7a3e4888",
   "metadata": {},
   "source": [
    "We took 1000 samples of size 20 for each of the random variables, for mean of those an approximately gaussian curve is seen and for variance an approximately (chi)^2 distribution curve is seen those graphs are also shown."
   ]
  },
  {
   "cell_type": "code",
   "execution_count": 16,
   "id": "07608bf4-ed61-4c26-9994-d23c29d47ae8",
   "metadata": {},
   "outputs": [
    {
     "data": {
      "image/png": "[encoded data removed]",
      "text/plain": [
       "<Figure size 432x288 with 1 Axes>"
      ]
     },
     "metadata": {
      "needs_background": "light"
     },
     "output_type": "display_data"
    }
   ],
   "source": [
    "hist(gen_means(1000,20, batsmen_runs), bins = 20, rwidth=0.8);"
   ]
  },
  {
   "cell_type": "code",
   "execution_count": 17,
   "id": "e8c538a2-e014-4ec6-8d91-46b391dd5fce",
   "metadata": {},
   "outputs": [
    {
     "data": {
      "image/png": "[encoded data removed]",
      "text/plain": [
       "<Figure size 432x288 with 1 Axes>"
      ]
     },
     "metadata": {
      "needs_background": "light"
     },
     "output_type": "display_data"
    }
   ],
   "source": [
    "hist(gen_means(1000,20, batsmen_sr), bins = 20, rwidth=0.8);"
   ]
  },
  {
   "cell_type": "code",
   "execution_count": 18,
   "id": "f62f3204-7893-408e-9bc3-13a9d81b7538",
   "metadata": {},
   "outputs": [
    {
     "data": {
      "image/png": "[encoded data removed]",
      "text/plain": [
       "<Figure size 432x288 with 1 Axes>"
      ]
     },
     "metadata": {
      "needs_background": "light"
     },
     "output_type": "display_data"
    }
   ],
   "source": [
    "hist(gen_means(1000,20, bowler_economy), bins = 20, rwidth = 0.8);"
   ]
  },
  {
   "cell_type": "code",
   "execution_count": 19,
   "id": "7fcf0af3-f440-491a-bafa-52d428b63ed1",
   "metadata": {},
   "outputs": [
    {
     "data": {
      "image/png": "[encoded data removed]",
      "text/plain": [
       "<Figure size 432x288 with 1 Axes>"
      ]
     },
     "metadata": {
      "needs_background": "light"
     },
     "output_type": "display_data"
    }
   ],
   "source": [
    "hist(gen_means(1000,20, bowler_wickets), bins = 20, rwidth = 0.8);"
   ]
  },
  {
   "cell_type": "markdown",
   "id": "57c4abb1-e0b7-4457-850b-0b037f886808",
   "metadata": {},
   "source": [
    "They clearly resemble a gaussian distribution"
   ]
  },
  {
   "cell_type": "code",
   "execution_count": 20,
   "id": "38272f60-b4f4-4225-8023-54dcea8a8b93",
   "metadata": {},
   "outputs": [],
   "source": [
    "def gen_vars(no_of_samples, sample_size, data_array):\n",
    "    vars=[]\n",
    "    for i in range(no_of_samples):\n",
    "        sample = choice(data_array,sample_size)\n",
    "        vars.append(var(sample, ddof=1))\n",
    "    return vars"
   ]
  },
  {
   "cell_type": "code",
   "execution_count": 21,
   "id": "337ec9a2-755e-4619-91a6-af7acd7b4dea",
   "metadata": {},
   "outputs": [
    {
     "data": {
      "image/png": "[encoded data removed]",
      "text/plain": [
       "<Figure size 432x288 with 1 Axes>"
      ]
     },
     "metadata": {
      "needs_background": "light"
     },
     "output_type": "display_data"
    }
   ],
   "source": [
    "hist(gen_vars(1000,20, batsmen_runs), bins = 20, rwidth=0.8);"
   ]
  },
  {
   "cell_type": "code",
   "execution_count": 22,
   "id": "b68f4d37-8266-46fb-8d3e-3ee93e9cae00",
   "metadata": {},
   "outputs": [
    {
     "data": {
      "image/png": "[encoded data removed]",
      "text/plain": [
       "<Figure size 432x288 with 1 Axes>"
      ]
     },
     "metadata": {
      "needs_background": "light"
     },
     "output_type": "display_data"
    }
   ],
   "source": [
    "hist(gen_vars(1000,20, batsmen_sr), bins = 20, rwidth=0.8);"
   ]
  },
  {
   "cell_type": "code",
   "execution_count": 23,
   "id": "2c8c28b7-9b84-4dfa-af00-1a5e7f5c5ab8",
   "metadata": {},
   "outputs": [
    {
     "data": {
      "image/png": "[encoded data removed]",
      "text/plain": [
       "<Figure size 432x288 with 1 Axes>"
      ]
     },
     "metadata": {
      "needs_background": "light"
     },
     "output_type": "display_data"
    }
   ],
   "source": [
    "hist(gen_vars(1000,20, bowler_economy), bins = 20, rwidth=0.8);"
   ]
  },
  {
   "cell_type": "code",
   "execution_count": 24,
   "id": "752c3338-1d76-423c-9d6d-b200bea25c3c",
   "metadata": {},
   "outputs": [
    {
     "data": {
      "image/png": "[encoded data removed]",
      "text/plain": [
       "<Figure size 432x288 with 1 Axes>"
      ]
     },
     "metadata": {
      "needs_background": "light"
     },
     "output_type": "display_data"
    }
   ],
   "source": [
    "hist(gen_vars(1000,20, bowler_wickets), bins = 20, rwidth=0.8);"
   ]
  },
  {
   "cell_type": "markdown",
   "id": "7c153ee5-967e-4296-b17a-3229e173647b",
   "metadata": {},
   "source": [
    "They closely resemble a $\\chi^2$ distribution"
   ]
  },
  {
   "cell_type": "markdown",
   "id": "78079258-f910-4193-a441-775f27a66f94",
   "metadata": {},
   "source": [
    "## Point and Interval Estimates"
   ]
  },
  {
   "cell_type": "code",
   "execution_count": 25,
   "id": "44926638-7700-47d9-b9cd-a8ba16a6c6a8",
   "metadata": {
    "tags": []
   },
   "outputs": [
    {
     "name": "stdout",
     "output_type": "stream",
     "text": [
      "True mean of runs scored by each batsmen = 2193.68\n",
      "True mean of strike rate of each batsmen = 1.27290877497\n",
      "True mean of economy of each bowler = 1.2917\n",
      "True mean of number of wickets taken by each bowler = 78.57\n"
     ]
    }
   ],
   "source": [
    "print (\"True mean of runs scored by each batsmen = \" + str(mean(batsmen_runs)))\n",
    "print (\"True mean of strike rate of each batsmen = \" + str(mean(batsmen_sr)))\n",
    "print (\"True mean of economy of each bowler = \" + str(mean(bowler_economy)))\n",
    "print (\"True mean of number of wickets taken by each bowler = \" + str(mean(bowler_wickets)))"
   ]
  },
  {
   "cell_type": "markdown",
   "id": "0908c6c7",
   "metadata": {},
   "source": [
    "Now, we have compared the true mean and variance to sample mean and variance and then graphs are drawn. We showed that it lies between confidence interval, that adjusting accordingly the sample size and confidence interval it fits and unfits.\n",
    "in this we have choosen default confidence interval of 95% and sample is 20 and the same thing is done for variance.\n",
    "now we'll see regression\n"
   ]
  },
  {
   "cell_type": "code",
   "execution_count": 26,
   "id": "50143aa3-b847-44e5-8aeb-399231434c1e",
   "metadata": {},
   "outputs": [
    {
     "name": "stdout",
     "output_type": "stream",
     "text": [
      "True variance of runs scored by each batsmen = 1909574.4775999996\n",
      "True variance of strike rate of each batsmen = 0.012389157058262556\n",
      "True variance of economy of each bowler = 0.00818823\n",
      "True variance of number of wickets taken by each bowler = 1685.6651000000004\n"
     ]
    }
   ],
   "source": [
    "print (\"True variance of runs scored by each batsmen = \" + str(var(batsmen_runs)))\n",
    "print (\"True variance of strike rate of each batsmen = \" + str(var(batsmen_sr)))\n",
    "print (\"True variance of economy of each bowler = \" + str(var(bowler_economy)))\n",
    "print (\"True variance of number of wickets taken by each bowler = \" + str(var(bowler_wickets)))"
   ]
  },
  {
   "cell_type": "code",
   "execution_count": 27,
   "id": "35511c5a-fa7c-47b3-9874-a7f61b8f597f",
   "metadata": {},
   "outputs": [],
   "source": [
    "sample_batsmen_runs = choice(pd.Series(batsmen_runs).to_numpy(),20)\n",
    "sample_batsmen_sr = choice(pd.Series(batsmen_sr).to_numpy(),20)\n",
    "sample_bowler_economy = choice(pd.Series(bowler_economy).to_numpy(),20)\n",
    "sample_bowler_wickets = choice(pd.Series(bowler_wickets).to_numpy(),20)"
   ]
  },
  {
   "cell_type": "code",
   "execution_count": 28,
   "id": "50b61b94-37fa-4a65-a756-24ade02aa75d",
   "metadata": {
    "tags": []
   },
   "outputs": [
    {
     "name": "stdout",
     "output_type": "stream",
     "text": [
      "Sample mean of runs scored by each batsmen = 1653.0\n",
      "Sample mean of runs of variance batsmen = 1.25685920585\n",
      "Sample mean of economy of each bowler = 1.26965\n",
      "Sample mean of number of wickets taken by each bowler = 85.35\n"
     ]
    }
   ],
   "source": [
    "print (\"Sample mean of runs scored by each batsmen = \" + str(mean(sample_batsmen_runs)))\n",
    "print (\"Sample mean of runs of variance batsmen = \" + str(mean(sample_batsmen_sr)))\n",
    "print (\"Sample mean of economy of each bowler = \" + str(mean(sample_bowler_economy)))\n",
    "print (\"Sample mean of number of wickets taken by each bowler = \" + str(mean(sample_bowler_wickets)))"
   ]
  },
  {
   "cell_type": "code",
   "execution_count": 29,
   "id": "7c49a7f3-a80d-4962-83b9-37067dc93f8c",
   "metadata": {},
   "outputs": [
    {
     "name": "stdout",
     "output_type": "stream",
     "text": [
      "Sample variance of runs scored by each batsmen = 632433.9\n",
      "Sample variance of strike rate of each batsmen = 0.00874162335288187\n",
      "Sample variance of economy of each bowler = 0.010306827499999999\n",
      "Sample variance of number of wickets taken by each bowler = 1470.3274999999999\n"
     ]
    }
   ],
   "source": [
    "print (\"Sample variance of runs scored by each batsmen = \" + str(var(sample_batsmen_runs)))\n",
    "print (\"Sample variance of strike rate of each batsmen = \" + str(var(sample_batsmen_sr)))\n",
    "print (\"Sample variance of economy of each bowler = \" + str(var(sample_bowler_economy)))\n",
    "print (\"Sample variance of number of wickets taken by each bowler = \" + str(var(sample_bowler_wickets)))"
   ]
  },
  {
   "cell_type": "code",
   "execution_count": 142,
   "id": "784d1c8e-2fd9-4089-8d6e-0a45ef9acc7d",
   "metadata": {},
   "outputs": [],
   "source": [
    "def compute_CI_mean(dataset, n_samples, interval):\n",
    "    sample = choice(dataset, n_samples, replace=False)\n",
    "    sample_mean = mean(sample)\n",
    "    sample_std = std(sample, ddof=1)\n",
    "    z = stats.norm.ppf(1 -  (100 - interval)/200)\n",
    "    ci_lo = sample_mean - z*sample_std/sqrt(n_samples)\n",
    "    ci_hi = sample_mean + z*sample_std/sqrt(n_samples)\n",
    "    return ci_lo, ci_hi"
   ]
  },
  {
   "cell_type": "code",
   "execution_count": 143,
   "id": "293618cb-2d44-433e-99a8-da09a7cc9a70",
   "metadata": {},
   "outputs": [
    {
     "data": {
      "image/png": "[encoded data removed]",
      "text/plain": [
       "<Figure size 432x288 with 1 Axes>"
      ]
     },
     "metadata": {
      "needs_background": "light"
     },
     "output_type": "display_data"
    }
   ],
   "source": [
    "hist(batsmen_runs)\n",
    "axvline(x = mean(batsmen_runs), color = 'r')\n",
    "axvline(x = compute_CI_mean(batsmen_runs, 20, 95)[0], color = 'y')\n",
    "axvline(x = compute_CI_mean(batsmen_runs, 20, 95)[1], color = 'y');"
   ]
  },
  {
   "cell_type": "code",
   "execution_count": 146,
   "id": "30743733-18ef-42b8-91ee-6543ae7fb779",
   "metadata": {},
   "outputs": [
    {
     "data": {
      "text/plain": [
       "<matplotlib.lines.Line2D at 0x239797a54c0>"
      ]
     },
     "execution_count": 146,
     "metadata": {},
     "output_type": "execute_result"
    },
    {
     "data": {
      "image/png": "[encoded data removed]",
      "text/plain": [
       "<Figure size 432x288 with 1 Axes>"
      ]
     },
     "metadata": {
      "needs_background": "light"
     },
     "output_type": "display_data"
    }
   ],
   "source": [
    "hist(batsmen_sr)\n",
    "axvline(x = mean(batsmen_sr), color = 'r')\n",
    "axvline(x = compute_CI_mean(batsmen_sr, 20, 95)[0], color = 'y')\n",
    "axvline(x = compute_CI_mean(batsmen_sr, 20, 95)[1], color = 'y')"
   ]
  },
  {
   "cell_type": "code",
   "execution_count": 150,
   "id": "fce4f0e2-e0ae-45f6-adaf-8c2efb812fbb",
   "metadata": {},
   "outputs": [
    {
     "data": {
      "text/plain": [
       "<matplotlib.lines.Line2D at 0x23978c7cca0>"
      ]
     },
     "execution_count": 150,
     "metadata": {},
     "output_type": "execute_result"
    },
    {
     "data": {
      "image/png": "[encoded data removed]",
      "text/plain": [
       "<Figure size 432x288 with 1 Axes>"
      ]
     },
     "metadata": {
      "needs_background": "light"
     },
     "output_type": "display_data"
    }
   ],
   "source": [
    "hist(bowler_economy)\n",
    "axvline(x = mean(bowler_economy), color = 'r')\n",
    "axvline(x = compute_CI_mean(bowler_economy, 20, 95)[0], color = 'y')\n",
    "axvline(x = compute_CI_mean(bowler_economy, 20, 95)[1], color = 'y')"
   ]
  },
  {
   "cell_type": "code",
   "execution_count": 149,
   "id": "5453b0bc-59dc-45c7-92ac-b61d4558f27c",
   "metadata": {},
   "outputs": [
    {
     "data": {
      "text/plain": [
       "<matplotlib.lines.Line2D at 0x239791c16a0>"
      ]
     },
     "execution_count": 149,
     "metadata": {},
     "output_type": "execute_result"
    },
    {
     "data": {
      "image/png": "[encoded data removed]",
      "text/plain": [
       "<Figure size 432x288 with 1 Axes>"
      ]
     },
     "metadata": {
      "needs_background": "light"
     },
     "output_type": "display_data"
    }
   ],
   "source": [
    "hist(bowler_wickets)\n",
    "axvline(x = mean(bowler_wickets), color = 'r')\n",
    "axvline(x = compute_CI_mean(bowler_wickets, 20, 95)[0], color = 'y')\n",
    "axvline(x = compute_CI_mean(bowler_wickets, 20, 95)[1], color = 'y')"
   ]
  },
  {
   "cell_type": "code",
   "execution_count": 151,
   "id": "1f9203c1-f6b9-4bed-a602-ed9700255893",
   "metadata": {},
   "outputs": [],
   "source": [
    "def compute_CI_var(dataset, n_samples, interval):\n",
    "    sample = choice(dataset, n_samples, replace=False)\n",
    "    sample_var = var(sample)\n",
    "    sample_std = std(sample, ddof=1)\n",
    "    z = stats.norm.ppf(1 - (100 - interval)/200)\n",
    "    ci_lo = sample_var - z*sample_std/sqrt(n_samples)\n",
    "    ci_hi = sample_var + z*sample_std/sqrt(n_samples)\n",
    "    return ci_lo, ci_hi"
   ]
  },
  {
   "cell_type": "code",
   "execution_count": 152,
   "id": "5d3109a1-4d97-47ee-b039-0b3292873b89",
   "metadata": {},
   "outputs": [
    {
     "data": {
      "text/plain": [
       "(1448916.742510501, 1449999.4324894988)"
      ]
     },
     "execution_count": 152,
     "metadata": {},
     "output_type": "execute_result"
    }
   ],
   "source": [
    "compute_CI_var(batsmen_runs, 20, 95)"
   ]
  },
  {
   "cell_type": "code",
   "execution_count": 153,
   "id": "32635409-939c-44e8-b9e6-44395a2f3e67",
   "metadata": {},
   "outputs": [
    {
     "data": {
      "text/plain": [
       "(-0.039676644625791874, 0.06875062119646037)"
      ]
     },
     "execution_count": 153,
     "metadata": {},
     "output_type": "execute_result"
    }
   ],
   "source": [
    "compute_CI_var(batsmen_sr, 20, 95)"
   ]
  },
  {
   "cell_type": "code",
   "execution_count": 154,
   "id": "7f38660c-93f8-4ed2-bcdd-dd48bf46eaf1",
   "metadata": {},
   "outputs": [
    {
     "data": {
      "text/plain": [
       "(-0.03231722940315731, 0.048449309403157316)"
      ]
     },
     "execution_count": 154,
     "metadata": {},
     "output_type": "execute_result"
    }
   ],
   "source": [
    "compute_CI_var(bowler_economy, 20, 95)"
   ]
  },
  {
   "cell_type": "code",
   "execution_count": 155,
   "id": "bb206a4b-6f8b-4b7a-ac9a-4593d0c81f9c",
   "metadata": {},
   "outputs": [
    {
     "data": {
      "text/plain": [
       "(2654.3925383898463, 2700.9274616101543)"
      ]
     },
     "execution_count": 155,
     "metadata": {},
     "output_type": "execute_result"
    }
   ],
   "source": [
    "compute_CI_var(bowler_wickets, 20, 95)"
   ]
  },
  {
   "cell_type": "markdown",
   "id": "7fd7ddb8-aff7-4f49-923c-93c9bea94b0d",
   "metadata": {},
   "source": [
    "From the histograms of the mean plotted it can be seen that as the confidence interval grows larger, the wider the gap between the two yellow lines. Hence the probability that the true mean lies between them grows larger and hence the confidence increases. Similiarly for variance, we computed the 95% confidence intervals."
   ]
  },
  {
   "cell_type": "markdown",
   "id": "ba15d86f-f6c7-4847-955d-94b154b2b488",
   "metadata": {},
   "source": [
    "## Regression"
   ]
  },
  {
   "cell_type": "code",
   "execution_count": 50,
   "id": "52746716-a241-4c21-89ed-619b6cddb411",
   "metadata": {},
   "outputs": [],
   "source": [
    "def compute_lin_reg_coeffs(x, y):\n",
    "    x_bar = np.mean(x)\n",
    "    y_bar = np.mean(y)\n",
    "    sxx = np.sum((x - x_bar)**2)\n",
    "    sxy = np.sum((x - x_bar)*(y - y_bar))\n",
    "    b1 = sxy/sxx\n",
    "    b0 = y_bar - b1*x_bar\n",
    "    return b0, b1"
   ]
  },
  {
   "cell_type": "code",
   "execution_count": 51,
   "id": "911ade7c-fbd3-4803-b3e7-18fc079e739c",
   "metadata": {},
   "outputs": [],
   "source": [
    "b0, b1 = compute_lin_reg_coeffs(batsmen_runs, batsmen_sr)"
   ]
  },
  {
   "cell_type": "code",
   "execution_count": 52,
   "id": "11f0410e-602a-4d33-992d-499f5d548426",
   "metadata": {},
   "outputs": [
    {
     "name": "stdout",
     "output_type": "stream",
     "text": [
      "1.2453263856111285 1.257357014645324e-05\n"
     ]
    }
   ],
   "source": [
    "print(b0, b1)"
   ]
  },
  {
   "cell_type": "code",
   "execution_count": 56,
   "id": "c8c24781-84cb-4440-b706-b32cc7f77c0d",
   "metadata": {},
   "outputs": [
    {
     "data": {
      "text/plain": [
       "Text(0, 0.5, 'Strike Rate')"
      ]
     },
     "execution_count": 56,
     "metadata": {},
     "output_type": "execute_result"
    },
    {
     "data": {
      "image/png": "[encoded data removed]",
      "text/plain": [
       "<Figure size 432x288 with 1 Axes>"
      ]
     },
     "metadata": {
      "needs_background": "light"
     },
     "output_type": "display_data"
    }
   ],
   "source": [
    "plot(batsmen_runs,batsmen_sr, 'ro', markersize=5)\n",
    "plot(batsmen_runs, b0 + b1*batsmen_runs, 'b-', lw=3)\n",
    "xlabel('Runs')\n",
    "ylabel('Strike Rate')"
   ]
  },
  {
   "cell_type": "code",
   "execution_count": 59,
   "id": "83ee5af5-4291-4db2-a675-7d2ea2cc8a0c",
   "metadata": {},
   "outputs": [],
   "source": [
    "b0, b1 = compute_lin_reg_coeffs(bowler_economy, bowler_wickets)"
   ]
  },
  {
   "cell_type": "code",
   "execution_count": 60,
   "id": "01a12568-e81f-48bd-a25e-d2a0a2f12928",
   "metadata": {},
   "outputs": [
    {
     "name": "stdout",
     "output_type": "stream",
     "text": [
      "165.6404075606083 -67.40760823767774\n"
     ]
    }
   ],
   "source": [
    "print(b0, b1)"
   ]
  },
  {
   "cell_type": "code",
   "execution_count": 61,
   "id": "69816b2e-4db6-411b-a25c-60ea183ac089",
   "metadata": {},
   "outputs": [
    {
     "data": {
      "text/plain": [
       "Text(0, 0.5, 'Wickets')"
      ]
     },
     "execution_count": 61,
     "metadata": {},
     "output_type": "execute_result"
    },
    {
     "data": {
      "image/png": "[encoded data removed]",
      "text/plain": [
       "<Figure size 432x288 with 1 Axes>"
      ]
     },
     "metadata": {
      "needs_background": "light"
     },
     "output_type": "display_data"
    }
   ],
   "source": [
    "plot(bowler_economy, bowler_wickets, 'ro', markersize=5)\n",
    "plot(bowler_economy, b0 + b1*bowler_economy, 'b-', lw=3)\n",
    "xlabel('Economy')\n",
    "ylabel('Wickets')"
   ]
  },
  {
   "cell_type": "markdown",
   "id": "cc1a60d3-a9ab-4aac-8159-dd96ba30f5f3",
   "metadata": {},
   "source": [
    "In both cases, we do not find a good linear relationship between our random variables. Hence, linear regression may not be such a good approximation."
   ]
  },
  {
   "cell_type": "markdown",
   "id": "971e446c-f0ea-453c-aa2f-792f8bc115ac",
   "metadata": {},
   "source": [
    "## Hypothesis testing"
   ]
  },
  {
   "cell_type": "markdown",
   "id": "31cae41b-752f-482d-998e-2e2db941d753",
   "metadata": {},
   "source": [
    "**Here we check whether the player played better compared to his previous records...** To compare this one approach could have been directly comparing the current mean with other players. But we used this hypothesis testing approach so as to check whether the current performance was probabilistic or just a \"by chance event\". <br>\n",
    "Here, we are trying to compare a new bowler with the rest of the players in ipl. We use the data of the last 14 matches he played and try to find out wether his performance is average or above average. Similiarly for batsmen, we will be doing the same thing in terms of strike rate. (Imagine that we wish to include a power-hitting finisher to provide an ideal end to every batting innings)"
   ]
  },
  {
   "cell_type": "code",
   "execution_count": 72,
   "id": "a980b204-6c5c-4e6b-9e16-b5442cd35e89",
   "metadata": {},
   "outputs": [],
   "source": [
    "bowler_current_stats = array([6.00, 5.55, 8.55, 7.12, 9.78, 6.87, 9.88, 4.59, 8.24, 10.00, 6.78, 8.66, 7.88, 9.24])/6"
   ]
  },
  {
   "cell_type": "code",
   "execution_count": 73,
   "id": "22133c0c-c422-466b-8f6a-d309126e0815",
   "metadata": {},
   "outputs": [],
   "source": [
    "xbar= mean(bowler_current_stats)  \n",
    "mu = mean(bowler_economy)"
   ]
  },
  {
   "cell_type": "markdown",
   "id": "a8eeb3a2-cdf2-4e1c-8ecc-5fae0d33b1a7",
   "metadata": {},
   "source": [
    "H0: mu = mean <br> \n",
    "H1: mu > mean <br>\n",
    "Chosing the level of significance $\\alpha$ as 0.05 "
   ]
  },
  {
   "cell_type": "code",
   "execution_count": 78,
   "id": "0a6a5908-5fc8-4cd0-91dd-a36fd58fecc2",
   "metadata": {},
   "outputs": [
    {
     "name": "stdout",
     "output_type": "stream",
     "text": [
      "0.10008720545293666\n"
     ]
    }
   ],
   "source": [
    "stnd = std(bowler_economy, ddof=1)\n",
    "Z= (xbar-mu)/(stnd/sqrt(14))\n",
    "print (Z)"
   ]
  },
  {
   "cell_type": "code",
   "execution_count": 97,
   "id": "2a35ac62-7960-4b0d-9fe2-4b7df92bff92",
   "metadata": {},
   "outputs": [],
   "source": [
    "norm_dist = stats.norm\n",
    "p_value = 1 - norm_dist.cdf(Z)"
   ]
  },
  {
   "cell_type": "code",
   "execution_count": 98,
   "id": "a38d2c7c-64ef-4a80-a52c-50a3e874883d",
   "metadata": {},
   "outputs": [
    {
     "data": {
      "text/plain": [
       "0.46013754644725446"
      ]
     },
     "execution_count": 98,
     "metadata": {},
     "output_type": "execute_result"
    }
   ],
   "source": [
    "p_value "
   ]
  },
  {
   "cell_type": "markdown",
   "id": "8ccf9f50-383d-4d6f-b637-8053d0c90ff1",
   "metadata": {},
   "source": [
    "**Decision :** (based on alpha value)<br>\n",
    "Here, clearly, the p_value obtained is much greater than the value of $\\alpha$ and hence we fail to reject the null hypoethesis. Hence, we conclude that the player under anlysis is an average player. He will have to work very hard and improve his numbers a great deal to make it into our team! Or, alternatively, we would need the data of performances of his second to last season or before that to collect enough data to perhaps conclude that he can make it into our team."
   ]
  },
  {
   "cell_type": "code",
   "execution_count": 122,
   "id": "12d5c6d0-b248-4236-baf3-562bdf18cc3d",
   "metadata": {},
   "outputs": [],
   "source": [
    "batsman_current_stats= array([132,145,123,152,154,136,123,143,100,120,198,140,140,130])/100"
   ]
  },
  {
   "cell_type": "code",
   "execution_count": 123,
   "id": "65d9884c-074a-42b8-8550-fce9217fe5fe",
   "metadata": {},
   "outputs": [],
   "source": [
    "mu= mean(batsmen_sr)  \n",
    "xbar = mean(batsman_current_stats)"
   ]
  },
  {
   "cell_type": "markdown",
   "id": "c419ff09-e082-405b-9521-4524e56ab632",
   "metadata": {},
   "source": [
    "H0: mu = mean <br>\n",
    "H1: mu > mean <br>\n",
    "Level of significance $\\alpha$ = 0.05"
   ]
  },
  {
   "cell_type": "code",
   "execution_count": 124,
   "id": "0f288ad2-7e12-4a8e-a464-319e1ebe5685",
   "metadata": {},
   "outputs": [],
   "source": [
    "stnd = std(batsmen_sr,ddof=1)\n",
    "Z= (xbar-mu)/(stnd/sqrt(14))"
   ]
  },
  {
   "cell_type": "markdown",
   "id": "34472573-e3b4-4d1c-bfce-5dedb64aba12",
   "metadata": {},
   "source": [
    "norm_dist = stats.norm\n",
    "p_value = 1 - norm_dist.cdf(Z)\n",
    "print(p_value)"
   ]
  },
  {
   "cell_type": "markdown",
   "id": "dbaa7494-b319-436a-86a8-e93d7f0aa6af",
   "metadata": {},
   "source": [
    "**Decision :** (based on alpha value)\n",
    "From this we can conclude that the p_value is lesser than the level of significance (0.05). Hence, we have enough evidence to safely conclude that the player under analysis has a very high and healthy strike rate. We will definitely place a bid on our friend here and try to include him in our team!"
   ]
  },
  {
   "cell_type": "markdown",
   "id": "6bab74ea-0316-470d-9cf8-d883c7ed914e",
   "metadata": {},
   "source": [
    "Another idea of hypothesis testing would be to compare the recent performances of a player to their past performances and check whether they have improved over thhe course of their career or not. However, due to lack of data, we are not able to do so."
   ]
  },
  {
   "cell_type": "markdown",
   "id": "4c226278-1ebf-4b4f-801a-9debda265417",
   "metadata": {},
   "source": [
    "## Contributions - "
   ]
  },
  {
   "cell_type": "markdown",
   "id": "beb61319-2ab8-479a-86ff-26d34101b5c2",
   "metadata": {},
   "source": [
    "Presentation - Astha Dable , Anshul Aggarwal <br>\n",
    "Data Collection - Akash Banger, Anshul Aggarwal<br>\n",
    "Data description - Akash Banger, Anshul Aggarwal, Abhishek Choudhary<br>\n",
    "Sampling distributions - Anshul Aggarwal, Abhishek Choudhary<br>\n",
    "Point and Interval estimates - Anshul Aggarwal, Astha Dable<br>\n",
    "Regression - Anshul Aggarwal<br>\n",
    "Hypothesis Testing - Anshul Aggarwal, Abhishek Choudhary<br>"
   ]
  },
  {
   "cell_type": "code",
   "execution_count": null,
   "id": "1cec438d-832c-45e6-98aa-3940d983bb13",
   "metadata": {},
   "outputs": [],
   "source": []
  }
 ],
 "metadata": {
  "kernelspec": {
   "display_name": "Python 3 (ipykernel)",
   "language": "python",
   "name": "python3"
  },
  "language_info": {
   "codemirror_mode": {
    "name": "ipython",
    "version": 3
   },
   "file_extension": ".py",
   "mimetype": "text/x-python",
   "name": "python",
   "nbconvert_exporter": "python",
   "pygments_lexer": "ipython3",
   "version": "3.9.7"
  }
 },
 "nbformat": 4,
 "nbformat_minor": 5
}
